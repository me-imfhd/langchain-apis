{
 "cells": [
  {
   "cell_type": "code",
   "execution_count": 1,
   "metadata": {},
   "outputs": [
    {
     "name": "stdout",
     "output_type": "stream",
     "text": [
      "Note: you may need to restart the kernel to use updated packages.\n"
     ]
    }
   ],
   "source": [
    "%pip install cohere tiktoken"
   ]
  },
  {
   "cell_type": "code",
   "execution_count": 2,
   "metadata": {},
   "outputs": [],
   "source": [
    "import os\n",
    "\n",
    "from dotenv import load_dotenv\n",
    "load_dotenv()\n",
    "\n",
    "os.environ[\"OPENAI_API_KEY\"] = os.environ.get(\"OPENAI_API_KEY\")"
   ]
  },
  {
   "cell_type": "code",
   "execution_count": 3,
   "metadata": {},
   "outputs": [
    {
     "name": "stdout",
     "output_type": "stream",
     "text": [
      "Python interpreter: /home/meimfhd/fhd/langchain-apis/.venv/bin/python\n",
      "Packages:\n",
      "regex 2023.12.25\n",
      "fsspec 2023.12.2\n",
      "certifi 2023.11.17\n",
      "setuptools 59.6.0\n",
      "kubernetes 28.1.0\n",
      "pyzmq 25.1.2\n",
      "flatbuffers 23.5.26\n",
      "attrs 23.2.0\n",
      "packaging 23.2\n",
      "pip 22.0.2\n",
      "coloredlogs 15.0.1\n",
      "websockets 12.0\n",
      "humanfriendly 10.0\n",
      "ipython 8.19.0\n",
      "jupyter-client 8.6.0\n",
      "tenacity 8.2.3\n",
      "click 8.1.7\n",
      "overrides 7.4.0\n",
      "ipykernel 6.28.0\n",
      "importlib-metadata 6.11.0\n",
      "tornado 6.4\n",
      "importlib-resources 6.1.1\n",
      "multidict 6.0.4\n",
      "PyYAML 6.0.1\n",
      "traitlets 5.14.1\n",
      "psutil 5.9.7\n",
      "jupyter-core 5.7.0\n",
      "cachetools 5.3.2\n",
      "decorator 5.1.1\n",
      "tqdm 4.66.1\n",
      "cohere 4.40\n",
      "protobuf 4.25.1\n",
      "beautifulsoup4 4.12.2\n",
      "pexpect 4.9.0\n",
      "rsa 4.9\n",
      "typing-extensions 4.9.0\n",
      "anyio 4.2.0\n",
      "bcrypt 4.1.2\n",
      "platformdirs 4.1.0\n",
      "async-timeout 4.0.3\n",
      "mmh3 4.0.1\n",
      "marshmallow 3.20.1\n",
      "zipp 3.17.0\n",
      "filelock 3.13.1\n",
      "aiohttp 3.9.1\n",
      "asgiref 3.7.2\n",
      "idna 3.6\n",
      "pulsar-client 3.4.0\n",
      "charset-normalizer 3.3.2\n",
      "oauthlib 3.2.2\n",
      "posthog 3.1.0\n",
      "prompt-toolkit 3.0.43\n",
      "greenlet 3.0.3\n",
      "types-requests 2.31.0.6\n",
      "requests 2.31.0\n",
      "google-auth 2.26.1\n",
      "pygments 2.17.2\n",
      "pydantic-core 2.14.6\n",
      "python-dateutil 2.8.2\n",
      "pydantic 2.5.3\n",
      "soupsieve 2.5\n",
      "asttokens 2.4.1\n",
      "jsonpointer 2.4\n",
      "backoff 2.2.1\n",
      "SQLAlchemy 2.0.25\n",
      "executing 2.0.1\n",
      "tomli 2.0.1\n",
      "googleapis-common-protos 1.62.0\n",
      "grpcio 1.60.0\n",
      "jsonpatch 1.33\n",
      "types-urllib3 1.26.25.14\n",
      "urllib3 1.26.18\n",
      "numpy 1.26.3\n",
      "opentelemetry-sdk 1.22.0\n",
      "opentelemetry-exporter-otlp-proto-common 1.22.0\n",
      "opentelemetry-exporter-otlp-proto-grpc 1.22.0\n",
      "opentelemetry-api 1.22.0\n",
      "opentelemetry-proto 1.22.0\n",
      "onnxruntime 1.16.3\n",
      "wrapt 1.16.0\n",
      "six 1.16.0\n",
      "sympy 1.12\n",
      "yarl 1.9.4\n",
      "fastavro 1.9.2\n",
      "distro 1.9.0\n",
      "debugpy 1.8.0\n",
      "websocket-client 1.7.0\n",
      "openai 1.6.1\n",
      "monotonic 1.6\n",
      "nest-asyncio 1.5.8\n",
      "frozenlist 1.4.1\n",
      "requests-oauthlib 1.3.1\n",
      "aiosignal 1.3.1\n",
      "mpmath 1.3.0\n",
      "sniffio 1.3.0\n",
      "Deprecated 1.2.14\n",
      "exceptiongroup 1.2.0\n",
      "build 1.0.3\n",
      "httpcore 1.0.2\n",
      "python-dotenv 1.0.0\n",
      "pyproject-hooks 1.0.0\n",
      "mypy-extensions 1.0.0\n",
      "fastapi 0.108.0\n",
      "PyPika 0.48.9\n",
      "opentelemetry-instrumentation 0.43b0\n",
      "opentelemetry-instrumentation-asgi 0.43b0\n",
      "opentelemetry-util-http 0.43b0\n",
      "opentelemetry-semantic-conventions 0.43b0\n",
      "opentelemetry-instrumentation-fastapi 0.43b0\n",
      "starlette 0.32.0.post1\n",
      "httpx 0.26.0\n",
      "uvicorn 0.25.0\n",
      "watchfiles 0.21.0\n",
      "huggingface-hub 0.20.2\n",
      "jedi 0.19.1\n",
      "uvloop 0.19.0\n",
      "tokenizers 0.15.0\n",
      "h11 0.14.0\n",
      "typing-inspect 0.9.0\n",
      "typer 0.9.0\n",
      "parso 0.8.3\n",
      "chroma-hnswlib 0.7.3\n",
      "ptyprocess 0.7.0\n",
      "stack-data 0.6.3\n",
      "dataclasses-json 0.6.3\n",
      "httptools 0.6.1\n",
      "annotated-types 0.6.0\n",
      "tiktoken 0.5.2\n",
      "pyasn1 0.5.1\n",
      "chromadb 0.4.22\n",
      "pyasn1-modules 0.3.0\n",
      "wcwidth 0.2.12\n",
      "pure-eval 0.2.2\n",
      "comm 0.2.1\n",
      "langchainhub 0.1.14\n",
      "langchain-core 0.1.6\n",
      "matplotlib-inline 0.1.6\n",
      "langchain 0.0.354\n",
      "langsmith 0.0.77\n",
      "langchain-community 0.0.8\n",
      "bs4 0.0.1\n"
     ]
    }
   ],
   "source": [
    "import os\n",
    "import sys\n",
    "import pkg_resources\n",
    "print(\"Python interpreter:\", sys.executable)\n",
    "print(\"Packages:\")\n",
    "for dist in pkg_resources.working_set:\n",
    "    print(dist)\n"
   ]
  },
  {
   "cell_type": "code",
   "execution_count": 4,
   "metadata": {},
   "outputs": [],
   "source": [
    "import bs4\n",
    "from langchain import hub\n",
    "from langchain.text_splitter import RecursiveCharacterTextSplitter\n",
    "from langchain_community.chat_models import ChatOpenAI\n",
    "from langchain_community.document_loaders import WebBaseLoader\n",
    "from langchain_community.embeddings import OpenAIEmbeddings\n",
    "from langchain_community.vectorstores import Chroma\n",
    "from langchain_core.output_parsers import StrOutputParser\n",
    "from langchain_core.runnables import RunnablePassthrough"
   ]
  },
  {
   "cell_type": "code",
   "execution_count": 5,
   "metadata": {},
   "outputs": [],
   "source": [
    "loader = WebBaseLoader(\n",
    "    web_paths=(\"https://lilianweng.github.io/posts/2023-06-23-agent/\",),\n",
    "    bs_kwargs=dict(\n",
    "        parse_only=bs4.SoupStrainer(\n",
    "            class_=(\"post-content\", \"post-title\", \"post-header\")\n",
    "        )\n",
    "    )\n",
    ")"
   ]
  },
  {
   "cell_type": "code",
   "execution_count": 6,
   "metadata": {},
   "outputs": [],
   "source": [
    "docs = loader.load()"
   ]
  },
  {
   "cell_type": "code",
   "execution_count": 7,
   "metadata": {},
   "outputs": [],
   "source": [
    "text_splitter = RecursiveCharacterTextSplitter(chunk_size=1000, chunk_overlap=200)"
   ]
  },
  {
   "cell_type": "code",
   "execution_count": 8,
   "metadata": {},
   "outputs": [],
   "source": [
    "splits = text_splitter.split_documents(docs)"
   ]
  },
  {
   "cell_type": "code",
   "execution_count": 11,
   "metadata": {},
   "outputs": [],
   "source": [
    "\n",
    "vectorstore = Chroma.from_documents(documents=splits, embedding=OpenAIEmbeddings())"
   ]
  },
  {
   "cell_type": "code",
   "execution_count": 12,
   "metadata": {},
   "outputs": [],
   "source": [
    "\n",
    "# Retrieve and generate using the relevant snippets of the blog.\n",
    "retriever = vectorstore.as_retriever()\n",
    "prompt = hub.pull(\"rlm/rag-prompt\")\n",
    "llm = ChatOpenAI(model_name=\"gpt-3.5-turbo\", temperature=0)"
   ]
  },
  {
   "cell_type": "code",
   "execution_count": 13,
   "metadata": {},
   "outputs": [],
   "source": [
    "def format_docs(docs):\n",
    "    return \"\\n\\n\".join(doc.page_content for doc in docs)\n",
    "\n",
    "\n",
    "rag_chain = (\n",
    "    {\"context\": retriever | format_docs, \"question\": RunnablePassthrough()}\n",
    "    | prompt\n",
    "    | llm\n",
    "    | StrOutputParser()\n",
    ")"
   ]
  },
  {
   "cell_type": "code",
   "execution_count": 14,
   "metadata": {},
   "outputs": [
    {
     "data": {
      "text/plain": [
       "\"Task decomposition is a technique used to break down complex tasks into smaller and simpler steps. It allows for better planning and understanding of the task at hand. This approach, such as the Chain of Thought (CoT) and Tree of Thoughts, helps enhance model performance and provides insights into the model's thinking process.\""
      ]
     },
     "execution_count": 14,
     "metadata": {},
     "output_type": "execute_result"
    }
   ],
   "source": [
    "rag_chain.invoke(\"What is Task Decomposition?\")"
   ]
  },
  {
   "cell_type": "code",
   "execution_count": 15,
   "metadata": {},
   "outputs": [],
   "source": [
    "# cleanup\n",
    "vectorstore.delete_collection()"
   ]
  },
  {
   "cell_type": "code",
   "execution_count": null,
   "metadata": {},
   "outputs": [],
   "source": []
  }
 ],
 "metadata": {
  "kernelspec": {
   "display_name": ".venv",
   "language": "python",
   "name": "python3"
  },
  "language_info": {
   "codemirror_mode": {
    "name": "ipython",
    "version": 3
   },
   "file_extension": ".py",
   "mimetype": "text/x-python",
   "name": "python",
   "nbconvert_exporter": "python",
   "pygments_lexer": "ipython3",
   "version": "3.10.12"
  }
 },
 "nbformat": 4,
 "nbformat_minor": 2
}
